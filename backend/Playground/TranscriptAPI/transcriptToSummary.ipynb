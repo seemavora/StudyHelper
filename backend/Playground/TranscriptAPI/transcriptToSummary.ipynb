{
 "cells": [
  {
   "cell_type": "code",
   "execution_count": null,
   "metadata": {},
   "outputs": [],
   "source": []
  },
  {
   "cell_type": "code",
   "execution_count": 1,
   "metadata": {},
   "outputs": [],
   "source": [
    "from transformers import pipeline\n",
    "from youtube_transcript_api import YouTubeTranscriptApi"
   ]
  },
  {
   "cell_type": "code",
   "execution_count": 2,
   "metadata": {},
   "outputs": [],
   "source": [
    "youtube_video = \"https://www.youtube.com/watch?v=JNL6f1xkie4\""
   ]
  },
  {
   "cell_type": "code",
   "execution_count": 4,
   "metadata": {},
   "outputs": [],
   "source": [
    "video_id = youtube_video.split(\"=\")[1]"
   ]
  },
  {
   "cell_type": "code",
   "execution_count": 5,
   "metadata": {},
   "outputs": [
    {
     "data": {
      "text/plain": [
       "'JNL6f1xkie4'"
      ]
     },
     "execution_count": 5,
     "metadata": {},
     "output_type": "execute_result"
    }
   ],
   "source": [
    "video_id"
   ]
  },
  {
   "cell_type": "code",
   "execution_count": 6,
   "metadata": {},
   "outputs": [
    {
     "data": {
      "text/plain": [
       "[{'text': 'Narrator: What I want to do in this video',\n",
       "  'start': 0.529,\n",
       "  'duration': 1.427},\n",
       " {'text': 'is give ourselves a\\nframework for thinking about',\n",
       "  'start': 1.956,\n",
       "  'duration': 1.942},\n",
       " {'text': 'the rent versus buy decision for a home.',\n",
       "  'start': 3.898,\n",
       "  'duration': 5.79},\n",
       " {'text': 'The key takeaway I hope\\nyou have after this video',\n",
       "  'start': 9.688,\n",
       "  'duration': 2.724},\n",
       " {'text': \"is there's not just a simple right answer,\",\n",
       "  'start': 12.412,\n",
       "  'duration': 2.409}]"
      ]
     },
     "execution_count": 6,
     "metadata": {},
     "output_type": "execute_result"
    }
   ],
   "source": [
    "transcript = YouTubeTranscriptApi.get_transcript(video_id)\n",
    "transcript[0:5]"
   ]
  },
  {
   "cell_type": "code",
   "execution_count": 7,
   "metadata": {},
   "outputs": [
    {
     "name": "stdout",
     "output_type": "stream",
     "text": [
      "10783\n"
     ]
    }
   ],
   "source": [
    "result = \"\"\n",
    "for i in transcript:\n",
    "    result += ' ' + i['text']\n",
    "#print(result)\n",
    "print(len(result))"
   ]
  },
  {
   "cell_type": "code",
   "execution_count": 8,
   "metadata": {},
   "outputs": [
    {
     "name": "stderr",
     "output_type": "stream",
     "text": [
      "No model was supplied, defaulted to t5-small (https://huggingface.co/t5-small)\n",
      "All model checkpoint layers were used when initializing TFT5ForConditionalGeneration.\n",
      "\n",
      "All the layers of TFT5ForConditionalGeneration were initialized from the model checkpoint at t5-small.\n",
      "If your task is similar to the task the model of the checkpoint was trained on, you can already use TFT5ForConditionalGeneration for predictions without further training.\n"
     ]
    }
   ],
   "source": [
    "summarizer = pipeline('summarization')"
   ]
  },
  {
   "cell_type": "code",
   "execution_count": 9,
   "metadata": {},
   "outputs": [
    {
     "name": "stderr",
     "output_type": "stream",
     "text": [
      "Your max_length is set to 200, but you input_length is only 189. You might consider decreasing max_length manually, e.g. summarizer('...', max_length=50)\n"
     ]
    }
   ],
   "source": [
    "#by default the code above uses BERT \n",
    "#BERT can only take in a limited amount of text at a time, so the text must be split into smaller chunks\n",
    "num_iters = int(len(result)/1000)\n",
    "summarized_text = []\n",
    "for i in range(0,num_iters +1):\n",
    "    start = 0\n",
    "    start = (i*1000)\n",
    "    end = (i+1) *1000\n",
    "    out = summarizer(result[start:end])\n",
    "    out = out[0]\n",
    "    out = out['summary_text']\n",
    "    summarized_text.append(out)"
   ]
  },
  {
   "cell_type": "code",
   "execution_count": 10,
   "metadata": {},
   "outputs": [
    {
     "name": "stdout",
     "output_type": "stream",
     "text": [
      "[\"the key takeaway I hope you have after this video is to give ourselves a framework for thinking about the rent versus buy decision for a home . let's say this house in on the market, and it's on market for rental at 1,500 a month, which is the same thing as 18,000 a year .\", 'a traditional mortgage, one that has a fixed term, may be a 15 year fixed mortgage . some of it goes towards the loan and some go down to pay down the loan . early on, it might be disproportionately interest, and early on might be 1,500 a month in interest .', \"this would be a traditional process of a conventional mortgage . let's assume that you're taking an interest-only loan . this is going to help just simplify things, and obviously we'd probably have to get a spread sheet out .\", \"your taxable income would go down to 82,000 . you'll save, roughly, your tax rate as a percentage of this . 1% of 400,000 would be 4,000 in property tax .\", '4,000 + 2,000 is 6,000 + 12,000 is 18,000. 18,018 . 2,000 per year in upkeep, 2,000 a year in downkeep . the reason why I listed all these things is going out the door .', \"we don't even talk about what we're doing with our $100,000 . over here we had to use it for our down payment . we still have $100,000 invested, so we need to think about what's going out the door .\", \"you're 16,000 out-of-pocket. 16,000 cost per year . for this individual, purely on the economics, if we can assume these numbers, it actually might make sense to rent a house .\", \"there's no clear-cut answer that renting is always better than buying . this is a back-of-the-envelope version; we'll do a more in-depth version .\", \"the biggest reason we bought a house a few years ago is for buying stability . rents are unpredictable; rents could go up . if you're in a really rapidly rental appreciating market, it's unpredictable .\", \"you can customize, and make improvements when you buy a house . all the intangibles aren't just on the buying side, they could also be on the rental side . if you're just settling down in an area, you might not want to commit to one neighborhood or one house without understanding things better .\", 'ht want to have the flexibility of renting . you get into a 6 month lease, 1 year lease . sometimes you have housing bubbles and sometimes these economics go way out of wack .']\n"
     ]
    }
   ],
   "source": [
    "print(summarized_text)"
   ]
  },
  {
   "cell_type": "code",
   "execution_count": 11,
   "metadata": {},
   "outputs": [
    {
     "data": {
      "text/plain": [
       "'[\"the key takeaway I hope you have after this video is to give ourselves a framework for thinking about the rent versus buy decision for a home . let\\'s say this house in on the market, and it\\'s on market for rental at 1,500 a month, which is the same thing as 18,000 a year .\", \\'a traditional mortgage, one that has a fixed term, may be a 15 year fixed mortgage . some of it goes towards the loan and some go down to pay down the loan . early on, it might be disproportionately interest, and early on might be 1,500 a month in interest .\\', \"this would be a traditional process of a conventional mortgage . let\\'s assume that you\\'re taking an interest-only loan . this is going to help just simplify things, and obviously we\\'d probably have to get a spread sheet out .\", \"your taxable income would go down to 82,000 . you\\'ll save, roughly, your tax rate as a percentage of this . 1% of 400,000 would be 4,000 in property tax .\", \\'4,000 + 2,000 is 6,000 + 12,000 is 18,000. 18,018 . 2,000 per year in upkeep, 2,000 a year in downkeep . the reason why I listed all these things is going out the door .\\', \"we don\\'t even talk about what we\\'re doing with our $100,000 . over here we had to use it for our down payment . we still have $100,000 invested, so we need to think about what\\'s going out the door .\", \"you\\'re 16,000 out-of-pocket. 16,000 cost per year . for this individual, purely on the economics, if we can assume these numbers, it actually might make sense to rent a house .\", \"there\\'s no clear-cut answer that renting is always better than buying . this is a back-of-the-envelope version; we\\'ll do a more in-depth version .\", \"the biggest reason we bought a house a few years ago is for buying stability . rents are unpredictable; rents could go up . if you\\'re in a really rapidly rental appreciating market, it\\'s unpredictable .\", \"you can customize, and make improvements when you buy a house . all the intangibles aren\\'t just on the buying side, they could also be on the rental side . if you\\'re just settling down in an area, you might not want to commit to one neighborhood or one house without understanding things better .\", \\'ht want to have the flexibility of renting . you get into a 6 month lease, 1 year lease . sometimes you have housing bubbles and sometimes these economics go way out of wack .\\']'"
      ]
     },
     "execution_count": 11,
     "metadata": {},
     "output_type": "execute_result"
    }
   ],
   "source": [
    "str(summarized_text)"
   ]
  },
  {
   "cell_type": "code",
   "execution_count": null,
   "metadata": {},
   "outputs": [],
   "source": []
  }
 ],
 "metadata": {
  "interpreter": {
   "hash": "7f956853190829b392c62832bb8f0ad9f910ce06bda05f24e57857f8ee2917c7"
  },
  "kernelspec": {
   "display_name": "Python 3.8.8 64-bit ('base': conda)",
   "name": "python3"
  },
  "language_info": {
   "codemirror_mode": {
    "name": "ipython",
    "version": 3
   },
   "file_extension": ".py",
   "mimetype": "text/x-python",
   "name": "python",
   "nbconvert_exporter": "python",
   "pygments_lexer": "ipython3",
   "version": "3.8.8"
  },
  "orig_nbformat": 4
 },
 "nbformat": 4,
 "nbformat_minor": 2
}